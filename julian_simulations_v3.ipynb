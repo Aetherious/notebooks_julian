{
 "cells": [
  {
   "cell_type": "markdown",
   "id": "ac9797a2",
   "metadata": {},
   "source": [
    "## **1. Load File**"
   ]
  },
  {
   "cell_type": "code",
   "execution_count": null,
   "id": "36eaf072",
   "metadata": {},
   "outputs": [],
   "source": [
    "# Load in latest snapshot of simulation \"3D Model B\"\n",
    "# Huang, Yu, Lee, Dong, & Bai 2025\n",
    "\n",
    "from rixin_rw import DataMasking\n",
    "\n",
    "path = '/home/dasein/data/disk_planet_3D.cons.00400.athdf'\n",
    "dataset = DataMasking(path)"
   ]
  },
  {
   "cell_type": "markdown",
   "id": "d0fc28b8",
   "metadata": {},
   "source": [
    "## **2. Data Post-Processing**"
   ]
  },
  {
   "cell_type": "code",
   "execution_count": null,
   "id": "f9bb2165",
   "metadata": {},
   "outputs": [],
   "source": [
    "# (Optional) Interactive Phi Angle\n",
    "#phiangle = float(input(\"Choose your ϕ angles [0, 2π)\"))\n",
    "\n",
    "# External Packages\n",
    "import matplotlib.pyplot as plt\n",
    "import pyridoxine.plt as rxplt\n",
    "\n",
    "for phiangle in range(0, 360):\n",
    "    rxplt.plt_params('paper')\n",
    "    fig = plt.figure(figsize=(11,8.5))\n",
    "\n",
    "    # Polar axes: [left, bottom, width, height]\n",
    "    ax = fig.add_axes([0.2, 0.1, 0.7, 1.0], projection='polar')\n",
    "\n",
    "    # Map degree phiangle -> discrete index along ccphi\n",
    "    #i_phi = int(np.round(phiangle / 720.0 * dataset.ccphi.size)) % dataset.ccphi.size\n",
    "\n",
    "    # Overplot levels 1 and 2\n",
    "    for _lev in range (1, 3):\n",
    "        dataset.get_level(_lev)\n",
    "\n",
    "        # extract dust density at given phi (where the planet locates)\n",
    "        Q = ds['rhod_1'][int(dataset.ccphi.size*phiangle//360), :, :]\n",
    "        #Q = ds['rhod_1'][i_phi, :, :]\n",
    "        im = axes.pcolormesh(\n",
    "            dataset.cctheta,\n",
    "            dataset.ccr,\n",
    "            np.log10(Q).T,\n",
    "            shading='auto',\n",
    "            cmap=\"plasma\",\n",
    "            vmin=-8, vmax=0.1,\n",
    "            rasterized=True\n",
    "        )\n",
    "\n",
    "    # set theta to increase in the clockwise direction\n",
    "    axes.set_theta_direction(-1)\n",
    "    # position θ=0 at North and draw a faint white grid\n",
    "    axes.set_theta_zero_location('N')\n",
    "    axes.grid(True, ls=':', alpha=0.3, c='w')\n",
    "    \n",
    "    # limit θ to ±5 scale heights around the midplane (in degrees)\n",
    "    H = 0.05\n",
    "    axes.set_thetamin(180/np.pi * (np.pi/2 - 5*H))\n",
    "    axes.set_thetamax(180/np.pi * (np.pi/2 + 5*H))\n",
    "\n",
    "    # set angular ticks at ±3H and 0, and label them accordingly\n",
    "    axes.set_xticks([np.pi/2 - 3*H, np.pi/2, np.pi/2 + 3*H])\n",
    "    axes.set_xticklabels([r\"$3H$\", r\"$0$\", r\"$-3H$\"])\n",
    "    # pad the angular tick labels outward for readability\n",
    "    axes.tick_params(axis='x', which='major', pad=24)\n",
    "\n",
    "    # reduce radial ticks to only 0.5 and 1 for clarity\n",
    "    axes.set_rticks([0.5, 1])\n",
    "\n",
    "    # annotate the plot with φ location in blue, centered at given figure coordinates\n",
    "    # fig.text(0.195, 0.645, fr\"$\\phi={phiangle:.2f}$\", ha='center', va='center',\n",
    "    fig.text(0.195, 0.645, fr\"$\\phi={phiangle:03d}^\\circ$\", ha='center', va='center',\n",
    "             fontsize=30, color='blue')\n",
    "\n",
    "    # add a new horizontal axes for the colorbar\n",
    "    cax = fig.add_axes([0.125, 0.9, 0.75, 0.02])\n",
    "    cbar = fig.colorbar(im, cax=cax, orientation='horizontal')\n",
    "    # move the colorbar label to the top of the bar\n",
    "    cbar.axes.xaxis.set_label_position('top')\n",
    "    # set the colorbar label including simulation time and log dust density\n",
    "    cbar.set_label(\n",
    "        # fr\"3D Model B, $t={dataset.t/(2*np.pi):.1f}\"+r\"P_{\\rm orb}$, \" + r\"$\\log \\rho_{\\rm d}$\", labelpad=12)\n",
    "        fr\"3D Model B, $t={dataset.t/(2*np.pi):.1f}P_{{\\rm orb}}$, $\\log \\rho_{{\\rm d}}$\",\n",
    "        labelpad=12\n",
    "    )\n",
    "\n",
    "    filename = f\"/home/dasein/repositories/notebooks_julian/disk_slices/plot_{phiangle:03d}.png\"\n",
    "    fig.savefig(filename)\n",
    "    plt.close(fig)\n"
   ]
  }
 ],
 "metadata": {
  "kernelspec": {
   "display_name": "athena_py",
   "language": "python",
   "name": "python3"
  },
  "language_info": {
   "codemirror_mode": {
    "name": "ipython",
    "version": 3
   },
   "file_extension": ".py",
   "mimetype": "text/x-python",
   "name": "python",
   "nbconvert_exporter": "python",
   "pygments_lexer": "ipython3",
   "version": "3.13.5"
  }
 },
 "nbformat": 4,
 "nbformat_minor": 5
}
