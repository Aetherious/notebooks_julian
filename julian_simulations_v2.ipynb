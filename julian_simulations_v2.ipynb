{
 "cells": [
  {
   "cell_type": "code",
   "execution_count": 4,
   "id": "c83b59d4",
   "metadata": {},
   "outputs": [],
   "source": [
    "# import some common packages for data analysis and visualizations\n",
    "import sys\n",
    "import numpy as np\n",
    "import scipy as sp\n",
    "import scipy.interpolate as spint\n",
    "import matplotlib as mpl\n",
    "import matplotlib.pyplot as plt\n",
    "\n",
    "# import some code snippets for convenience\n",
    "# install this package via `pip install -U pyridoxine`\n",
    "import pyridoxine.plt as rxplt\n",
    "\n",
    "# needed for loadding & processing athena++ data\n",
    "import h5py\n",
    "# run this file to load the class I wrote for easier handling of athena++ data: Raw_Data_Restricted\n",
    "%run ./rixin_rw.py  # which also requires \"athena_read.py\" in the same folder\n"
   ]
  },
  {
   "cell_type": "code",
   "execution_count": 5,
   "id": "b96c9cc2",
   "metadata": {},
   "outputs": [],
   "source": [
    "#jupyter magic command that sets the matplotlib backend\n",
    "#nbagg = \"notbook aggregation backend\"\n",
    "%matplotlib nbagg\n",
    "np.set_printoptions(edgeitems=5, linewidth=200, precision=5)  # quick default setup, handy for debugging and inspecting simulation data\n"
   ]
  },
  {
   "cell_type": "code",
   "execution_count": 6,
   "id": "0e17a83d",
   "metadata": {},
   "outputs": [],
   "source": [
    "# import more python modules for fancy visualizations\n",
    "import plotly.graph_objects as plygo\n",
    "import magpylib as magpy #magnetic field visualizion and simulation\n",
    "import pyvista as pv #3D volumetric and mesh-based visualization\n",
    "pv.set_jupyter_backend('trame') #enables interactive 3D rendering in Jupyter\n"
   ]
  },
  {
   "cell_type": "markdown",
   "id": "a7a6ab44",
   "metadata": {},
   "source": [
    "# 1. Load File"
   ]
  },
  {
   "cell_type": "code",
   "execution_count": 7,
   "id": "a34e82e7",
   "metadata": {},
   "outputs": [],
   "source": [
    "# make sure the data file is in the same folder as this Jupyter Notebook\n",
    "# we now load the last snapshot of the simulation \"3D Model B\" from Huang, Yu, Lee, Dong & Bai 2025\n",
    "# Raw_Data_Restricted is a class from rixin_rw.py\n",
    "ds = Raw_Data_Restricted(\"/home/dasein/repositories/notebooks_julian/disk_planet_3D.cons.00400.athdf\")\n"
   ]
  },
  {
   "cell_type": "code",
   "execution_count": 8,
   "id": "6cf2b78a",
   "metadata": {},
   "outputs": [
    {
     "name": "stdout",
     "output_type": "stream",
     "text": [
      "0.046415888336127795\n"
     ]
    }
   ],
   "source": [
    "# For simulation \"3D Model B\", we have the following parameters\n",
    "#\n",
    "q = 3e-4   # Planet is only 0.03% of the star's mass\n",
    "α = 1e-2\n",
    "\n",
    "# derived physical parameters\n",
    "R_H = (q/3)**(1/3)  # Hill radius (without a so more like fraction)\n",
    "R_Bondi = q/0.05**2  # Bondi radius  0.05 = ratio of dics thickness = soundspeed/keplerian velocity (orbital)\n",
    "print(R_H)\n",
    "\n",
    "# planet position in spherical and cartesian coordinates\n",
    "planet_pos = np.array([1.0, np.pi/2, np.pi])\n",
    "planet_pos_car = np.array([-1.0, 0, 0])\n"
   ]
  },
  {
   "cell_type": "code",
   "execution_count": null,
   "id": "e3f2bbb8",
   "metadata": {},
   "outputs": [],
   "source": [
    "# (Optional) Interactive Phi Angle\n",
    "#phiangle = float(input(\"Choose your ϕ angles [0, 2π)\"))\n",
    "\n",
    "for phiangle in range(0, 360):\n",
    "    rxplt.plt_params('paper')\n",
    "    fig = plt.figure(figsize=(11,8.5))\n",
    "\n",
    "    # Polar axes: [left, bottom, width, height]\n",
    "    ax = fig.add_axes([0.2, 0.1, 0.7, 1.0], projection='polar')\n",
    "\n",
    "    # Map degree phiangle -> discrete index along ccphi\n",
    "    #i_phi = int(np.round(phiangle / 720.0 * ds.ccphi.size)) % ds.ccphi.size\n",
    "\n",
    "    # Overplot levels 1 and 2\n",
    "    for _lev in range (1, 3):\n",
    "        ds.get_level(_lev)\n",
    "\n",
    "        # extract dust density at given phi (where the planet locates)\n",
    "        Q = ds['rhod_1'][int(ds.ccphi.size*phiangle//360), :, :]\n",
    "        #Q = ds['rhod_1'][i_phi, :, :]\n",
    "        im = ax.pcolormesh(\n",
    "            ds.cctheta,\n",
    "            ds.ccr,\n",
    "            np.log10(Q).T,\n",
    "            shading='auto',\n",
    "            cmap=\"plasma\",\n",
    "            vmin=-8, vmax=0.1,\n",
    "            rasterized=True\n",
    "        )\n",
    "\n",
    "    # set theta to increase in the clockwise direction\n",
    "    ax.set_theta_direction(-1)\n",
    "    # position θ=0 at North and draw a faint white grid\n",
    "    ax.set_theta_zero_location('N')\n",
    "    ax.grid(True, ls=':', alpha=0.3, c='w')\n",
    "\n",
    "    # limit θ to ±5 scale heights around the midplane (in degrees)\n",
    "    H = 0.05\n",
    "    ax.set_thetamin(180/np.pi * (np.pi/2 - 5*H))\n",
    "    ax.set_thetamax(180/np.pi * (np.pi/2 + 5*H))\n",
    "\n",
    "    # set angular ticks at ±3H and 0, and label them accordingly\n",
    "    ax.set_xticks([np.pi/2 - 3*H, np.pi/2, np.pi/2 + 3*H])\n",
    "    ax.set_xticklabels([r\"$3H$\", r\"$0$\", r\"$-3H$\"])\n",
    "    # pad the angular tick labels outward for readability\n",
    "    ax.tick_params(axis='x', which='major', pad=24)\n",
    "\n",
    "    # reduce radial ticks to only 0.5 and 1 for clarity\n",
    "    ax.set_rticks([0.5, 1])\n",
    "\n",
    "    # annotate the plot with φ location in blue, centered at given figure coordinates\n",
    "    # fig.text(0.195, 0.645, fr\"$\\phi={phiangle:.2f}$\", ha='center', va='center',\n",
    "    fig.text(0.195, 0.645, fr\"$\\phi={phiangle:03d}^\\circ$\", ha='center', va='center',\n",
    "             fontsize=30, color='blue')\n",
    "\n",
    "    # add a new horizontal axes for the colorbar\n",
    "    cax = fig.add_axes([0.125, 0.9, 0.75, 0.02])\n",
    "    cbar = fig.colorbar(im, cax=cax, orientation='horizontal')\n",
    "    # move the colorbar label to the top of the bar\n",
    "    cbar.ax.xaxis.set_label_position('top')\n",
    "    # set the colorbar label including simulation time and log dust density\n",
    "    cbar.set_label(\n",
    "        # fr\"3D Model B, $t={ds.t/(2*np.pi):.1f}\"+r\"P_{\\rm orb}$, \" + r\"$\\log \\rho_{\\rm d}$\", labelpad=12)\n",
    "        fr\"3D Model B, $t={ds.t/(2*np.pi):.1f}P_{{\\rm orb}}$, $\\log \\rho_{{\\rm d}}$\",\n",
    "        labelpad=12\n",
    "    )\n",
    "\n",
    "    filename = f\"/home/dasein/repositories/notebooks_julian/disk_slices/plot_{phiangle:03d}.png\"\n",
    "    fig.savefig(filename)\n",
    "    plt.close(fig)\n"
   ]
  },
  {
   "cell_type": "code",
   "execution_count": null,
   "id": "099038ba",
   "metadata": {},
   "outputs": [],
   "source": []
  }
 ],
 "metadata": {
  "kernelspec": {
   "display_name": "athena_py",
   "language": "python",
   "name": "python3"
  },
  "language_info": {
   "codemirror_mode": {
    "name": "ipython",
    "version": 3
   },
   "file_extension": ".py",
   "mimetype": "text/x-python",
   "name": "python",
   "nbconvert_exporter": "python",
   "pygments_lexer": "ipython3",
   "version": "3.13.5"
  }
 },
 "nbformat": 4,
 "nbformat_minor": 5
}
